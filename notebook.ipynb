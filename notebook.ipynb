{
 "cells": [
  {
   "cell_type": "code",
   "metadata": {
    "tags": [],
    "cell_id": "00000-e625375d-4fd3-441e-b9a9-10356c15b8b2",
    "deepnote_to_be_reexecuted": false,
    "source_hash": "8ad57f32",
    "execution_start": 1627645583519,
    "execution_millis": 1,
    "deepnote_cell_type": "code"
   },
   "source": "# Start writing code here...",
   "execution_count": 1,
   "outputs": []
  },
  {
   "cell_type": "markdown",
   "source": "In this notebook, I am attemting an EDA on a kaggle dataset with a list of the world's highest-paid athletes since the first list published by Forbes in 1990. I conducted my initial analysis with guidance from Parul Pandey's analysis on the same dataset. Note that records for 2001 are missing because of a change in reporting period from the full calendar year to June-to-June in 2002. ",
   "metadata": {
    "tags": [],
    "cell_id": "00001-925c9344-1b86-420e-a1b0-0724bb211033",
    "deepnote_cell_type": "markdown"
   }
  },
  {
   "cell_type": "code",
   "source": "#importpandas\nimport pandas as pd\nimport os\n\n#find the directory for your data\nworking_directory = os.getcwd()\npath = working_directory + '/Forbes_Richest_Atheletes .csv'\n\n#read csv file from directory\ndf = pd.read_csv(path)\n\n#Have an overview of your data\ndf.head()\n",
   "metadata": {
    "tags": [],
    "cell_id": "00002-ab245bbe-44c3-4bd3-8425-3455a510ef45",
    "deepnote_to_be_reexecuted": false,
    "source_hash": "a8794a1f",
    "execution_start": 1627645583534,
    "execution_millis": 62,
    "deepnote_cell_type": "code"
   },
   "outputs": [
    {
     "output_type": "execute_result",
     "execution_count": 2,
     "data": {
      "application/vnd.deepnote.dataframe.v2+json": {
       "row_count": 5,
       "column_count": 8,
       "columns": [
        {
         "name": "S.NO",
         "dtype": "int64",
         "stats": {
          "unique_count": 5,
          "nan_count": 0,
          "min": "1",
          "max": "5",
          "histogram": [
           {
            "bin_start": 1,
            "bin_end": 1.4,
            "count": 1
           },
           {
            "bin_start": 1.4,
            "bin_end": 1.8,
            "count": 0
           },
           {
            "bin_start": 1.8,
            "bin_end": 2.2,
            "count": 1
           },
           {
            "bin_start": 2.2,
            "bin_end": 2.6,
            "count": 0
           },
           {
            "bin_start": 2.6,
            "bin_end": 3,
            "count": 0
           },
           {
            "bin_start": 3,
            "bin_end": 3.4000000000000004,
            "count": 1
           },
           {
            "bin_start": 3.4000000000000004,
            "bin_end": 3.8000000000000003,
            "count": 0
           },
           {
            "bin_start": 3.8000000000000003,
            "bin_end": 4.2,
            "count": 1
           },
           {
            "bin_start": 4.2,
            "bin_end": 4.6,
            "count": 0
           },
           {
            "bin_start": 4.6,
            "bin_end": 5,
            "count": 1
           }
          ]
         }
        },
        {
         "name": "Name",
         "dtype": "object",
         "stats": {
          "unique_count": 5,
          "nan_count": 0,
          "categories": [
           {
            "name": "Mike Tyson",
            "count": 1
           },
           {
            "name": "Buster Douglas",
            "count": 1
           },
           {
            "name": "3 others",
            "count": 3
           }
          ]
         }
        },
        {
         "name": "Nationality",
         "dtype": "object",
         "stats": {
          "unique_count": 3,
          "nan_count": 0,
          "categories": [
           {
            "name": "USA",
            "count": 3
           },
           {
            "name": "Brazil",
            "count": 1
           },
           {
            "name": "France",
            "count": 1
           }
          ]
         }
        },
        {
         "name": "Current Rank",
         "dtype": "int64",
         "stats": {
          "unique_count": 5,
          "nan_count": 0,
          "min": "1",
          "max": "5",
          "histogram": [
           {
            "bin_start": 1,
            "bin_end": 1.4,
            "count": 1
           },
           {
            "bin_start": 1.4,
            "bin_end": 1.8,
            "count": 0
           },
           {
            "bin_start": 1.8,
            "bin_end": 2.2,
            "count": 1
           },
           {
            "bin_start": 2.2,
            "bin_end": 2.6,
            "count": 0
           },
           {
            "bin_start": 2.6,
            "bin_end": 3,
            "count": 0
           },
           {
            "bin_start": 3,
            "bin_end": 3.4000000000000004,
            "count": 1
           },
           {
            "bin_start": 3.4000000000000004,
            "bin_end": 3.8000000000000003,
            "count": 0
           },
           {
            "bin_start": 3.8000000000000003,
            "bin_end": 4.2,
            "count": 1
           },
           {
            "bin_start": 4.2,
            "bin_end": 4.6,
            "count": 0
           },
           {
            "bin_start": 4.6,
            "bin_end": 5,
            "count": 1
           }
          ]
         }
        },
        {
         "name": "Previous Year Rank",
         "dtype": "object",
         "stats": {
          "unique_count": 0,
          "nan_count": 5,
          "categories": [
           {
            "name": "Missing",
            "count": 5
           }
          ]
         }
        },
        {
         "name": "Sport",
         "dtype": "object",
         "stats": {
          "unique_count": 2,
          "nan_count": 0,
          "categories": [
           {
            "name": "boxing",
            "count": 3
           },
           {
            "name": "auto racing",
            "count": 2
           }
          ]
         }
        },
        {
         "name": "Year",
         "dtype": "int64",
         "stats": {
          "unique_count": 1,
          "nan_count": 0,
          "min": "1990",
          "max": "1990",
          "histogram": [
           {
            "bin_start": 1989.5,
            "bin_end": 1989.6,
            "count": 0
           },
           {
            "bin_start": 1989.6,
            "bin_end": 1989.7,
            "count": 0
           },
           {
            "bin_start": 1989.7,
            "bin_end": 1989.8,
            "count": 0
           },
           {
            "bin_start": 1989.8,
            "bin_end": 1989.9,
            "count": 0
           },
           {
            "bin_start": 1989.9,
            "bin_end": 1990,
            "count": 0
           },
           {
            "bin_start": 1990,
            "bin_end": 1990.1,
            "count": 5
           },
           {
            "bin_start": 1990.1,
            "bin_end": 1990.2,
            "count": 0
           },
           {
            "bin_start": 1990.2,
            "bin_end": 1990.3,
            "count": 0
           },
           {
            "bin_start": 1990.3,
            "bin_end": 1990.4,
            "count": 0
           },
           {
            "bin_start": 1990.4,
            "bin_end": 1990.5,
            "count": 0
           }
          ]
         }
        },
        {
         "name": "earnings ($ million)",
         "dtype": "float64",
         "stats": {
          "unique_count": 5,
          "nan_count": 0,
          "min": "9.0",
          "max": "28.6",
          "histogram": [
           {
            "bin_start": 9,
            "bin_end": 10.96,
            "count": 2
           },
           {
            "bin_start": 10.96,
            "bin_end": 12.92,
            "count": 0
           },
           {
            "bin_start": 12.92,
            "bin_end": 14.88,
            "count": 1
           },
           {
            "bin_start": 14.88,
            "bin_end": 16.84,
            "count": 0
           },
           {
            "bin_start": 16.84,
            "bin_end": 18.8,
            "count": 0
           },
           {
            "bin_start": 18.8,
            "bin_end": 20.76,
            "count": 0
           },
           {
            "bin_start": 20.76,
            "bin_end": 22.72,
            "count": 0
           },
           {
            "bin_start": 22.72,
            "bin_end": 24.68,
            "count": 0
           },
           {
            "bin_start": 24.68,
            "bin_end": 26.64,
            "count": 1
           },
           {
            "bin_start": 26.64,
            "bin_end": 28.6,
            "count": 1
           }
          ]
         }
        },
        {
         "name": "_deepnote_index_column",
         "dtype": "int64"
        }
       ],
       "rows_top": [
        {
         "S.NO": 1,
         "Name": "Mike Tyson",
         "Nationality": "USA",
         "Current Rank": 1,
         "Previous Year Rank": "nan",
         "Sport": "boxing",
         "Year": 1990,
         "earnings ($ million)": 28.6,
         "_deepnote_index_column": 0
        },
        {
         "S.NO": 2,
         "Name": "Buster Douglas",
         "Nationality": "USA",
         "Current Rank": 2,
         "Previous Year Rank": "nan",
         "Sport": "boxing",
         "Year": 1990,
         "earnings ($ million)": 26,
         "_deepnote_index_column": 1
        },
        {
         "S.NO": 3,
         "Name": "Sugar Ray Leonard",
         "Nationality": "USA",
         "Current Rank": 3,
         "Previous Year Rank": "nan",
         "Sport": "boxing",
         "Year": 1990,
         "earnings ($ million)": 13,
         "_deepnote_index_column": 2
        },
        {
         "S.NO": 4,
         "Name": "Ayrton Senna",
         "Nationality": "Brazil",
         "Current Rank": 4,
         "Previous Year Rank": "nan",
         "Sport": "auto racing",
         "Year": 1990,
         "earnings ($ million)": 10,
         "_deepnote_index_column": 3
        },
        {
         "S.NO": 5,
         "Name": "Alain Prost",
         "Nationality": "France",
         "Current Rank": 5,
         "Previous Year Rank": "nan",
         "Sport": "auto racing",
         "Year": 1990,
         "earnings ($ million)": 9,
         "_deepnote_index_column": 4
        }
       ],
       "rows_bottom": null
      },
      "text/plain": "   S.NO               Name Nationality  Current Rank Previous Year Rank  \\\n0     1         Mike Tyson         USA             1                NaN   \n1     2     Buster Douglas         USA             2                NaN   \n2     3  Sugar Ray Leonard         USA             3                NaN   \n3     4       Ayrton Senna      Brazil             4                NaN   \n4     5        Alain Prost      France             5                NaN   \n\n         Sport  Year  earnings ($ million)  \n0       boxing  1990                  28.6  \n1       boxing  1990                  26.0  \n2       boxing  1990                  13.0  \n3  auto racing  1990                  10.0  \n4  auto racing  1990                   9.0  ",
      "text/html": "<div>\n<style scoped>\n    .dataframe tbody tr th:only-of-type {\n        vertical-align: middle;\n    }\n\n    .dataframe tbody tr th {\n        vertical-align: top;\n    }\n\n    .dataframe thead th {\n        text-align: right;\n    }\n</style>\n<table border=\"1\" class=\"dataframe\">\n  <thead>\n    <tr style=\"text-align: right;\">\n      <th></th>\n      <th>S.NO</th>\n      <th>Name</th>\n      <th>Nationality</th>\n      <th>Current Rank</th>\n      <th>Previous Year Rank</th>\n      <th>Sport</th>\n      <th>Year</th>\n      <th>earnings ($ million)</th>\n    </tr>\n  </thead>\n  <tbody>\n    <tr>\n      <th>0</th>\n      <td>1</td>\n      <td>Mike Tyson</td>\n      <td>USA</td>\n      <td>1</td>\n      <td>NaN</td>\n      <td>boxing</td>\n      <td>1990</td>\n      <td>28.6</td>\n    </tr>\n    <tr>\n      <th>1</th>\n      <td>2</td>\n      <td>Buster Douglas</td>\n      <td>USA</td>\n      <td>2</td>\n      <td>NaN</td>\n      <td>boxing</td>\n      <td>1990</td>\n      <td>26.0</td>\n    </tr>\n    <tr>\n      <th>2</th>\n      <td>3</td>\n      <td>Sugar Ray Leonard</td>\n      <td>USA</td>\n      <td>3</td>\n      <td>NaN</td>\n      <td>boxing</td>\n      <td>1990</td>\n      <td>13.0</td>\n    </tr>\n    <tr>\n      <th>3</th>\n      <td>4</td>\n      <td>Ayrton Senna</td>\n      <td>Brazil</td>\n      <td>4</td>\n      <td>NaN</td>\n      <td>auto racing</td>\n      <td>1990</td>\n      <td>10.0</td>\n    </tr>\n    <tr>\n      <th>4</th>\n      <td>5</td>\n      <td>Alain Prost</td>\n      <td>France</td>\n      <td>5</td>\n      <td>NaN</td>\n      <td>auto racing</td>\n      <td>1990</td>\n      <td>9.0</td>\n    </tr>\n  </tbody>\n</table>\n</div>"
     },
     "metadata": {}
    }
   ],
   "execution_count": 2
  },
  {
   "cell_type": "markdown",
   "source": "There are many operations we will be carrying out on the dataframe but first, let's create a copy of the original dataframe to have an idea of what the data looks like.\n\n",
   "metadata": {
    "tags": [],
    "cell_id": "00003-5e000c53-4671-4703-8636-089e2c68f9d1",
    "deepnote_cell_type": "markdown"
   }
  },
  {
   "cell_type": "code",
   "source": "df1 = df.copy()\ndf1.drop('S.NO',axis=1,inplace=True)\ndf1.info()",
   "metadata": {
    "tags": [],
    "cell_id": "00004-7c37ee90-6a06-42ad-9f64-313bd3c586ea",
    "deepnote_to_be_reexecuted": false,
    "source_hash": "47ed500a",
    "execution_start": 1627645583617,
    "execution_millis": 1,
    "deepnote_cell_type": "code"
   },
   "outputs": [
    {
     "name": "stdout",
     "text": "<class 'pandas.core.frame.DataFrame'>\nRangeIndex: 301 entries, 0 to 300\nData columns (total 7 columns):\n #   Column                Non-Null Count  Dtype  \n---  ------                --------------  -----  \n 0   Name                  301 non-null    object \n 1   Nationality           301 non-null    object \n 2   Current Rank          301 non-null    int64  \n 3   Previous Year Rank    277 non-null    object \n 4   Sport                 301 non-null    object \n 5   Year                  301 non-null    int64  \n 6   earnings ($ million)  301 non-null    float64\ndtypes: float64(1), int64(2), object(4)\nmemory usage: 16.6+ KB\n",
     "output_type": "stream"
    }
   ],
   "execution_count": 3
  },
  {
   "cell_type": "code",
   "source": "# Convert string to datetime64\ndf1['Year'] = df1['Year'].apply(pd.to_datetime,format='%Y')\n\n#Set Date column as the index column.\ndf1['year'] = pd.DatetimeIndex(df1['Year']).year  \ndf1.set_index('year', inplace=True)\ndf1.drop('Year',axis=1,inplace=True)\n\n# Converting the sport column to uppercase\ndf1['Sport'] = df1['Sport'].str.upper()\ndf1.head()\n\n# df is the original dataframe while df1 is a copy where the Date has been set as an index column",
   "metadata": {
    "tags": [],
    "cell_id": "00005-9aad4d63-2486-4f2c-abc0-c4f3d3a2d074",
    "deepnote_to_be_reexecuted": false,
    "source_hash": "4af82a96",
    "execution_start": 1627645583677,
    "execution_millis": 103,
    "deepnote_cell_type": "code"
   },
   "outputs": [
    {
     "output_type": "execute_result",
     "execution_count": 4,
     "data": {
      "application/vnd.deepnote.dataframe.v2+json": {
       "row_count": 5,
       "column_count": 6,
       "columns": [
        {
         "name": "Name",
         "dtype": "object",
         "stats": {
          "unique_count": 5,
          "nan_count": 0,
          "categories": [
           {
            "name": "Mike Tyson",
            "count": 1
           },
           {
            "name": "Buster Douglas",
            "count": 1
           },
           {
            "name": "3 others",
            "count": 3
           }
          ]
         }
        },
        {
         "name": "Nationality",
         "dtype": "object",
         "stats": {
          "unique_count": 3,
          "nan_count": 0,
          "categories": [
           {
            "name": "USA",
            "count": 3
           },
           {
            "name": "Brazil",
            "count": 1
           },
           {
            "name": "France",
            "count": 1
           }
          ]
         }
        },
        {
         "name": "Current Rank",
         "dtype": "int64",
         "stats": {
          "unique_count": 5,
          "nan_count": 0,
          "min": "1",
          "max": "5",
          "histogram": [
           {
            "bin_start": 1,
            "bin_end": 1.4,
            "count": 1
           },
           {
            "bin_start": 1.4,
            "bin_end": 1.8,
            "count": 0
           },
           {
            "bin_start": 1.8,
            "bin_end": 2.2,
            "count": 1
           },
           {
            "bin_start": 2.2,
            "bin_end": 2.6,
            "count": 0
           },
           {
            "bin_start": 2.6,
            "bin_end": 3,
            "count": 0
           },
           {
            "bin_start": 3,
            "bin_end": 3.4000000000000004,
            "count": 1
           },
           {
            "bin_start": 3.4000000000000004,
            "bin_end": 3.8000000000000003,
            "count": 0
           },
           {
            "bin_start": 3.8000000000000003,
            "bin_end": 4.2,
            "count": 1
           },
           {
            "bin_start": 4.2,
            "bin_end": 4.6,
            "count": 0
           },
           {
            "bin_start": 4.6,
            "bin_end": 5,
            "count": 1
           }
          ]
         }
        },
        {
         "name": "Previous Year Rank",
         "dtype": "object",
         "stats": {
          "unique_count": 0,
          "nan_count": 5,
          "categories": [
           {
            "name": "Missing",
            "count": 5
           }
          ]
         }
        },
        {
         "name": "Sport",
         "dtype": "object",
         "stats": {
          "unique_count": 2,
          "nan_count": 0,
          "categories": [
           {
            "name": "BOXING",
            "count": 3
           },
           {
            "name": "AUTO RACING",
            "count": 2
           }
          ]
         }
        },
        {
         "name": "earnings ($ million)",
         "dtype": "float64",
         "stats": {
          "unique_count": 5,
          "nan_count": 0,
          "min": "9.0",
          "max": "28.6",
          "histogram": [
           {
            "bin_start": 9,
            "bin_end": 10.96,
            "count": 2
           },
           {
            "bin_start": 10.96,
            "bin_end": 12.92,
            "count": 0
           },
           {
            "bin_start": 12.92,
            "bin_end": 14.88,
            "count": 1
           },
           {
            "bin_start": 14.88,
            "bin_end": 16.84,
            "count": 0
           },
           {
            "bin_start": 16.84,
            "bin_end": 18.8,
            "count": 0
           },
           {
            "bin_start": 18.8,
            "bin_end": 20.76,
            "count": 0
           },
           {
            "bin_start": 20.76,
            "bin_end": 22.72,
            "count": 0
           },
           {
            "bin_start": 22.72,
            "bin_end": 24.68,
            "count": 0
           },
           {
            "bin_start": 24.68,
            "bin_end": 26.64,
            "count": 1
           },
           {
            "bin_start": 26.64,
            "bin_end": 28.6,
            "count": 1
           }
          ]
         }
        },
        {
         "name": "_deepnote_index_column",
         "dtype": "int64"
        }
       ],
       "rows_top": [
        {
         "Name": "Mike Tyson",
         "Nationality": "USA",
         "Current Rank": "1",
         "Previous Year Rank": "nan",
         "Sport": "BOXING",
         "earnings ($ million)": "28.6",
         "_deepnote_index_column": "1990"
        },
        {
         "Name": "Buster Douglas",
         "Nationality": "USA",
         "Current Rank": "2",
         "Previous Year Rank": "nan",
         "Sport": "BOXING",
         "earnings ($ million)": "26.0",
         "_deepnote_index_column": "1990"
        },
        {
         "Name": "Sugar Ray Leonard",
         "Nationality": "USA",
         "Current Rank": "3",
         "Previous Year Rank": "nan",
         "Sport": "BOXING",
         "earnings ($ million)": "13.0",
         "_deepnote_index_column": "1990"
        },
        {
         "Name": "Ayrton Senna",
         "Nationality": "Brazil",
         "Current Rank": "4",
         "Previous Year Rank": "nan",
         "Sport": "AUTO RACING",
         "earnings ($ million)": "10.0",
         "_deepnote_index_column": "1990"
        },
        {
         "Name": "Alain Prost",
         "Nationality": "France",
         "Current Rank": "5",
         "Previous Year Rank": "nan",
         "Sport": "AUTO RACING",
         "earnings ($ million)": "9.0",
         "_deepnote_index_column": "1990"
        }
       ],
       "rows_bottom": null
      },
      "text/plain": "                   Name Nationality  Current Rank Previous Year Rank  \\\nyear                                                                   \n1990         Mike Tyson         USA             1                NaN   \n1990     Buster Douglas         USA             2                NaN   \n1990  Sugar Ray Leonard         USA             3                NaN   \n1990       Ayrton Senna      Brazil             4                NaN   \n1990        Alain Prost      France             5                NaN   \n\n            Sport  earnings ($ million)  \nyear                                     \n1990       BOXING                  28.6  \n1990       BOXING                  26.0  \n1990       BOXING                  13.0  \n1990  AUTO RACING                  10.0  \n1990  AUTO RACING                   9.0  ",
      "text/html": "<div>\n<style scoped>\n    .dataframe tbody tr th:only-of-type {\n        vertical-align: middle;\n    }\n\n    .dataframe tbody tr th {\n        vertical-align: top;\n    }\n\n    .dataframe thead th {\n        text-align: right;\n    }\n</style>\n<table border=\"1\" class=\"dataframe\">\n  <thead>\n    <tr style=\"text-align: right;\">\n      <th></th>\n      <th>Name</th>\n      <th>Nationality</th>\n      <th>Current Rank</th>\n      <th>Previous Year Rank</th>\n      <th>Sport</th>\n      <th>earnings ($ million)</th>\n    </tr>\n    <tr>\n      <th>year</th>\n      <th></th>\n      <th></th>\n      <th></th>\n      <th></th>\n      <th></th>\n      <th></th>\n    </tr>\n  </thead>\n  <tbody>\n    <tr>\n      <th>1990</th>\n      <td>Mike Tyson</td>\n      <td>USA</td>\n      <td>1</td>\n      <td>NaN</td>\n      <td>BOXING</td>\n      <td>28.6</td>\n    </tr>\n    <tr>\n      <th>1990</th>\n      <td>Buster Douglas</td>\n      <td>USA</td>\n      <td>2</td>\n      <td>NaN</td>\n      <td>BOXING</td>\n      <td>26.0</td>\n    </tr>\n    <tr>\n      <th>1990</th>\n      <td>Sugar Ray Leonard</td>\n      <td>USA</td>\n      <td>3</td>\n      <td>NaN</td>\n      <td>BOXING</td>\n      <td>13.0</td>\n    </tr>\n    <tr>\n      <th>1990</th>\n      <td>Ayrton Senna</td>\n      <td>Brazil</td>\n      <td>4</td>\n      <td>NaN</td>\n      <td>AUTO RACING</td>\n      <td>10.0</td>\n    </tr>\n    <tr>\n      <th>1990</th>\n      <td>Alain Prost</td>\n      <td>France</td>\n      <td>5</td>\n      <td>NaN</td>\n      <td>AUTO RACING</td>\n      <td>9.0</td>\n    </tr>\n  </tbody>\n</table>\n</div>"
     },
     "metadata": {}
    }
   ],
   "execution_count": 4
  },
  {
   "cell_type": "code",
   "source": "# Top Paid Athelete For Each Year\nTop_paid_each_year = df1[df1['Current Rank'] == 1].sort_values(by='year',ascending=False)\n\nz = Top_paid_each_year[['Name','Sport','Nationality','earnings ($ million)']]\n\n#z.style.set_properties(**{'background-color': 'pink',\n                           # 'color': 'black',\n                            #'border-color': 'white'})\nz.style.background_gradient(cmap='Reds')  ",
   "metadata": {
    "tags": [],
    "cell_id": "00006-e0c72a55-365a-4eb7-b856-e2d79c37951e",
    "deepnote_to_be_reexecuted": false,
    "source_hash": "81d01c1d",
    "execution_start": 1627645583776,
    "execution_millis": 775,
    "deepnote_cell_type": "code"
   },
   "outputs": [
    {
     "output_type": "execute_result",
     "execution_count": 5,
     "data": {
      "text/plain": "<pandas.io.formats.style.Styler at 0x7f4f6f0cf9d0>",
      "text/html": "<style  type=\"text/css\" >\n#T_bef39_row0_col3{\n            background-color:  #fcaf93;\n            color:  #000000;\n        }#T_bef39_row1_col3{\n            background-color:  #fc9777;\n            color:  #000000;\n        }#T_bef39_row2_col3{\n            background-color:  #820711;\n            color:  #f1f1f1;\n        }#T_bef39_row3_col3{\n            background-color:  #fcbfa7;\n            color:  #000000;\n        }#T_bef39_row4_col3{\n            background-color:  #fcc4ad;\n            color:  #000000;\n        }#T_bef39_row5_col3{\n            background-color:  #67000d;\n            color:  #f1f1f1;\n        }#T_bef39_row6_col3,#T_bef39_row10_col3{\n            background-color:  #fcb095;\n            color:  #000000;\n        }#T_bef39_row7_col3,#T_bef39_row17_col3,#T_bef39_row22_col3{\n            background-color:  #fdd0bc;\n            color:  #000000;\n        }#T_bef39_row8_col3{\n            background-color:  #fdc7b2;\n            color:  #000000;\n        }#T_bef39_row9_col3,#T_bef39_row23_col3{\n            background-color:  #fdd3c1;\n            color:  #000000;\n        }#T_bef39_row11_col3{\n            background-color:  #fcab8f;\n            color:  #000000;\n        }#T_bef39_row12_col3{\n            background-color:  #fca588;\n            color:  #000000;\n        }#T_bef39_row13_col3{\n            background-color:  #fcb79c;\n            color:  #000000;\n        }#T_bef39_row14_col3{\n            background-color:  #fcc3ab;\n            color:  #000000;\n        }#T_bef39_row15_col3{\n            background-color:  #fdc5ae;\n            color:  #000000;\n        }#T_bef39_row16_col3{\n            background-color:  #fdcdb9;\n            color:  #000000;\n        }#T_bef39_row18_col3,#T_bef39_row21_col3{\n            background-color:  #fed9c9;\n            color:  #000000;\n        }#T_bef39_row19_col3{\n            background-color:  #fee3d6;\n            color:  #000000;\n        }#T_bef39_row20_col3{\n            background-color:  #fee8de;\n            color:  #000000;\n        }#T_bef39_row24_col3{\n            background-color:  #ffece3;\n            color:  #000000;\n        }#T_bef39_row25_col3{\n            background-color:  #fff4ef;\n            color:  #000000;\n        }#T_bef39_row26_col3,#T_bef39_row27_col3{\n            background-color:  #fff1ea;\n            color:  #000000;\n        }#T_bef39_row28_col3{\n            background-color:  #fee1d4;\n            color:  #000000;\n        }#T_bef39_row29_col3{\n            background-color:  #fff5f0;\n            color:  #000000;\n        }</style><table id=\"T_bef39_\" ><thead>    <tr>        <th class=\"blank level0\" ></th>        <th class=\"col_heading level0 col0\" >Name</th>        <th class=\"col_heading level0 col1\" >Sport</th>        <th class=\"col_heading level0 col2\" >Nationality</th>        <th class=\"col_heading level0 col3\" >earnings ($ million)</th>    </tr>    <tr>        <th class=\"index_name level0\" >year</th>        <th class=\"blank\" ></th>        <th class=\"blank\" ></th>        <th class=\"blank\" ></th>        <th class=\"blank\" ></th>    </tr></thead><tbody>\n                <tr>\n                        <th id=\"T_bef39_level0_row0\" class=\"row_heading level0 row0\" >2020</th>\n                        <td id=\"T_bef39_row0_col0\" class=\"data row0 col0\" >Roger Federer</td>\n                        <td id=\"T_bef39_row0_col1\" class=\"data row0 col1\" >TENNIS</td>\n                        <td id=\"T_bef39_row0_col2\" class=\"data row0 col2\" >Switzerland</td>\n                        <td id=\"T_bef39_row0_col3\" class=\"data row0 col3\" >106.300000</td>\n            </tr>\n            <tr>\n                        <th id=\"T_bef39_level0_row1\" class=\"row_heading level0 row1\" >2019</th>\n                        <td id=\"T_bef39_row1_col0\" class=\"data row1 col0\" >Lionel Messi</td>\n                        <td id=\"T_bef39_row1_col1\" class=\"data row1 col1\" >SOCCER</td>\n                        <td id=\"T_bef39_row1_col2\" class=\"data row1 col2\" >Argentina</td>\n                        <td id=\"T_bef39_row1_col3\" class=\"data row1 col3\" >127.000000</td>\n            </tr>\n            <tr>\n                        <th id=\"T_bef39_level0_row2\" class=\"row_heading level0 row2\" >2018</th>\n                        <td id=\"T_bef39_row2_col0\" class=\"data row2 col0\" >Floyd Mayweather</td>\n                        <td id=\"T_bef39_row2_col1\" class=\"data row2 col1\" >BOXING</td>\n                        <td id=\"T_bef39_row2_col2\" class=\"data row2 col2\" >USA</td>\n                        <td id=\"T_bef39_row2_col3\" class=\"data row2 col3\" >285.000000</td>\n            </tr>\n            <tr>\n                        <th id=\"T_bef39_level0_row3\" class=\"row_heading level0 row3\" >2017</th>\n                        <td id=\"T_bef39_row3_col0\" class=\"data row3 col0\" >Cristiano Ronaldo</td>\n                        <td id=\"T_bef39_row3_col1\" class=\"data row3 col1\" >SOCCER</td>\n                        <td id=\"T_bef39_row3_col2\" class=\"data row3 col2\" >Portugal</td>\n                        <td id=\"T_bef39_row3_col3\" class=\"data row3 col3\" >93.000000</td>\n            </tr>\n            <tr>\n                        <th id=\"T_bef39_level0_row4\" class=\"row_heading level0 row4\" >2016</th>\n                        <td id=\"T_bef39_row4_col0\" class=\"data row4 col0\" >Cristiano Ronaldo</td>\n                        <td id=\"T_bef39_row4_col1\" class=\"data row4 col1\" >SOCCER</td>\n                        <td id=\"T_bef39_row4_col2\" class=\"data row4 col2\" >Portugal</td>\n                        <td id=\"T_bef39_row4_col3\" class=\"data row4 col3\" >88.000000</td>\n            </tr>\n            <tr>\n                        <th id=\"T_bef39_level0_row5\" class=\"row_heading level0 row5\" >2015</th>\n                        <td id=\"T_bef39_row5_col0\" class=\"data row5 col0\" >Floyd Mayweather</td>\n                        <td id=\"T_bef39_row5_col1\" class=\"data row5 col1\" >BOXING</td>\n                        <td id=\"T_bef39_row5_col2\" class=\"data row5 col2\" >USA</td>\n                        <td id=\"T_bef39_row5_col3\" class=\"data row5 col3\" >300.000000</td>\n            </tr>\n            <tr>\n                        <th id=\"T_bef39_level0_row6\" class=\"row_heading level0 row6\" >2014</th>\n                        <td id=\"T_bef39_row6_col0\" class=\"data row6 col0\" >Floyd Mayweather</td>\n                        <td id=\"T_bef39_row6_col1\" class=\"data row6 col1\" >BOXING</td>\n                        <td id=\"T_bef39_row6_col2\" class=\"data row6 col2\" >USA</td>\n                        <td id=\"T_bef39_row6_col3\" class=\"data row6 col3\" >105.000000</td>\n            </tr>\n            <tr>\n                        <th id=\"T_bef39_level0_row7\" class=\"row_heading level0 row7\" >2013</th>\n                        <td id=\"T_bef39_row7_col0\" class=\"data row7 col0\" >Tiger Woods</td>\n                        <td id=\"T_bef39_row7_col1\" class=\"data row7 col1\" >GOLF</td>\n                        <td id=\"T_bef39_row7_col2\" class=\"data row7 col2\" >USA</td>\n                        <td id=\"T_bef39_row7_col3\" class=\"data row7 col3\" >78.100000</td>\n            </tr>\n            <tr>\n                        <th id=\"T_bef39_level0_row8\" class=\"row_heading level0 row8\" >2012</th>\n                        <td id=\"T_bef39_row8_col0\" class=\"data row8 col0\" >Floyd Mayweather</td>\n                        <td id=\"T_bef39_row8_col1\" class=\"data row8 col1\" >BOXING</td>\n                        <td id=\"T_bef39_row8_col2\" class=\"data row8 col2\" >USA</td>\n                        <td id=\"T_bef39_row8_col3\" class=\"data row8 col3\" >85.000000</td>\n            </tr>\n            <tr>\n                        <th id=\"T_bef39_level0_row9\" class=\"row_heading level0 row9\" >2011</th>\n                        <td id=\"T_bef39_row9_col0\" class=\"data row9 col0\" >Tiger Woods</td>\n                        <td id=\"T_bef39_row9_col1\" class=\"data row9 col1\" >GOLF</td>\n                        <td id=\"T_bef39_row9_col2\" class=\"data row9 col2\" >USA</td>\n                        <td id=\"T_bef39_row9_col3\" class=\"data row9 col3\" >75.000000</td>\n            </tr>\n            <tr>\n                        <th id=\"T_bef39_level0_row10\" class=\"row_heading level0 row10\" >2010</th>\n                        <td id=\"T_bef39_row10_col0\" class=\"data row10 col0\" >Tiger Woods</td>\n                        <td id=\"T_bef39_row10_col1\" class=\"data row10 col1\" >GOLF</td>\n                        <td id=\"T_bef39_row10_col2\" class=\"data row10 col2\" >USA</td>\n                        <td id=\"T_bef39_row10_col3\" class=\"data row10 col3\" >105.000000</td>\n            </tr>\n            <tr>\n                        <th id=\"T_bef39_level0_row11\" class=\"row_heading level0 row11\" >2009</th>\n                        <td id=\"T_bef39_row11_col0\" class=\"data row11 col0\" >Tiger Woods</td>\n                        <td id=\"T_bef39_row11_col1\" class=\"data row11 col1\" >GOLF</td>\n                        <td id=\"T_bef39_row11_col2\" class=\"data row11 col2\" >USA</td>\n                        <td id=\"T_bef39_row11_col3\" class=\"data row11 col3\" >110.000000</td>\n            </tr>\n            <tr>\n                        <th id=\"T_bef39_level0_row12\" class=\"row_heading level0 row12\" >2008</th>\n                        <td id=\"T_bef39_row12_col0\" class=\"data row12 col0\" >Tiger Woods</td>\n                        <td id=\"T_bef39_row12_col1\" class=\"data row12 col1\" >GOLF</td>\n                        <td id=\"T_bef39_row12_col2\" class=\"data row12 col2\" >USA</td>\n                        <td id=\"T_bef39_row12_col3\" class=\"data row12 col3\" >115.000000</td>\n            </tr>\n            <tr>\n                        <th id=\"T_bef39_level0_row13\" class=\"row_heading level0 row13\" >2007</th>\n                        <td id=\"T_bef39_row13_col0\" class=\"data row13 col0\" >Tiger Woods</td>\n                        <td id=\"T_bef39_row13_col1\" class=\"data row13 col1\" >GOLF</td>\n                        <td id=\"T_bef39_row13_col2\" class=\"data row13 col2\" >USA</td>\n                        <td id=\"T_bef39_row13_col3\" class=\"data row13 col3\" >100.000000</td>\n            </tr>\n            <tr>\n                        <th id=\"T_bef39_level0_row14\" class=\"row_heading level0 row14\" >2006</th>\n                        <td id=\"T_bef39_row14_col0\" class=\"data row14 col0\" >Tiger Woods</td>\n                        <td id=\"T_bef39_row14_col1\" class=\"data row14 col1\" >GOLF</td>\n                        <td id=\"T_bef39_row14_col2\" class=\"data row14 col2\" >USA</td>\n                        <td id=\"T_bef39_row14_col3\" class=\"data row14 col3\" >90.000000</td>\n            </tr>\n            <tr>\n                        <th id=\"T_bef39_level0_row15\" class=\"row_heading level0 row15\" >2005</th>\n                        <td id=\"T_bef39_row15_col0\" class=\"data row15 col0\" >Tiger Woods</td>\n                        <td id=\"T_bef39_row15_col1\" class=\"data row15 col1\" >GOLF</td>\n                        <td id=\"T_bef39_row15_col2\" class=\"data row15 col2\" >USA</td>\n                        <td id=\"T_bef39_row15_col3\" class=\"data row15 col3\" >87.000000</td>\n            </tr>\n            <tr>\n                        <th id=\"T_bef39_level0_row16\" class=\"row_heading level0 row16\" >2004</th>\n                        <td id=\"T_bef39_row16_col0\" class=\"data row16 col0\" >Tiger Woods</td>\n                        <td id=\"T_bef39_row16_col1\" class=\"data row16 col1\" >GOLF</td>\n                        <td id=\"T_bef39_row16_col2\" class=\"data row16 col2\" >USA</td>\n                        <td id=\"T_bef39_row16_col3\" class=\"data row16 col3\" >80.300000</td>\n            </tr>\n            <tr>\n                        <th id=\"T_bef39_level0_row17\" class=\"row_heading level0 row17\" >2003</th>\n                        <td id=\"T_bef39_row17_col0\" class=\"data row17 col0\" >Tiger Woods</td>\n                        <td id=\"T_bef39_row17_col1\" class=\"data row17 col1\" >GOLF</td>\n                        <td id=\"T_bef39_row17_col2\" class=\"data row17 col2\" >USA</td>\n                        <td id=\"T_bef39_row17_col3\" class=\"data row17 col3\" >78.000000</td>\n            </tr>\n            <tr>\n                        <th id=\"T_bef39_level0_row18\" class=\"row_heading level0 row18\" >2002</th>\n                        <td id=\"T_bef39_row18_col0\" class=\"data row18 col0\" >Tiger Woods</td>\n                        <td id=\"T_bef39_row18_col1\" class=\"data row18 col1\" >GOLF</td>\n                        <td id=\"T_bef39_row18_col2\" class=\"data row18 col2\" >USA</td>\n                        <td id=\"T_bef39_row18_col3\" class=\"data row18 col3\" >69.000000</td>\n            </tr>\n            <tr>\n                        <th id=\"T_bef39_level0_row19\" class=\"row_heading level0 row19\" >2000</th>\n                        <td id=\"T_bef39_row19_col0\" class=\"data row19 col0\" >Michael Schumacher</td>\n                        <td id=\"T_bef39_row19_col1\" class=\"data row19 col1\" >AUTO RACING</td>\n                        <td id=\"T_bef39_row19_col2\" class=\"data row19 col2\" >Germany</td>\n                        <td id=\"T_bef39_row19_col3\" class=\"data row19 col3\" >59.000000</td>\n            </tr>\n            <tr>\n                        <th id=\"T_bef39_level0_row20\" class=\"row_heading level0 row20\" >1999</th>\n                        <td id=\"T_bef39_row20_col0\" class=\"data row20 col0\" >Michael Schumacher</td>\n                        <td id=\"T_bef39_row20_col1\" class=\"data row20 col1\" >AUTO RACING</td>\n                        <td id=\"T_bef39_row20_col2\" class=\"data row20 col2\" >Germany</td>\n                        <td id=\"T_bef39_row20_col3\" class=\"data row20 col3\" >49.000000</td>\n            </tr>\n            <tr>\n                        <th id=\"T_bef39_level0_row21\" class=\"row_heading level0 row21\" >1998</th>\n                        <td id=\"T_bef39_row21_col0\" class=\"data row21 col0\" >Michael Jordan</td>\n                        <td id=\"T_bef39_row21_col1\" class=\"data row21 col1\" >BASKETBALL</td>\n                        <td id=\"T_bef39_row21_col2\" class=\"data row21 col2\" >USA</td>\n                        <td id=\"T_bef39_row21_col3\" class=\"data row21 col3\" >69.000000</td>\n            </tr>\n            <tr>\n                        <th id=\"T_bef39_level0_row22\" class=\"row_heading level0 row22\" >1997</th>\n                        <td id=\"T_bef39_row22_col0\" class=\"data row22 col0\" >Michael Jordan</td>\n                        <td id=\"T_bef39_row22_col1\" class=\"data row22 col1\" >BASKETBALL</td>\n                        <td id=\"T_bef39_row22_col2\" class=\"data row22 col2\" >USA</td>\n                        <td id=\"T_bef39_row22_col3\" class=\"data row22 col3\" >78.300000</td>\n            </tr>\n            <tr>\n                        <th id=\"T_bef39_level0_row23\" class=\"row_heading level0 row23\" >1996</th>\n                        <td id=\"T_bef39_row23_col0\" class=\"data row23 col0\" >Mike Tyson</td>\n                        <td id=\"T_bef39_row23_col1\" class=\"data row23 col1\" >BOXING</td>\n                        <td id=\"T_bef39_row23_col2\" class=\"data row23 col2\" >USA</td>\n                        <td id=\"T_bef39_row23_col3\" class=\"data row23 col3\" >75.000000</td>\n            </tr>\n            <tr>\n                        <th id=\"T_bef39_level0_row24\" class=\"row_heading level0 row24\" >1995</th>\n                        <td id=\"T_bef39_row24_col0\" class=\"data row24 col0\" >Michael Jordan</td>\n                        <td id=\"T_bef39_row24_col1\" class=\"data row24 col1\" >BASKETBALL</td>\n                        <td id=\"T_bef39_row24_col2\" class=\"data row24 col2\" >USA</td>\n                        <td id=\"T_bef39_row24_col3\" class=\"data row24 col3\" >43.900000</td>\n            </tr>\n            <tr>\n                        <th id=\"T_bef39_level0_row25\" class=\"row_heading level0 row25\" >1994</th>\n                        <td id=\"T_bef39_row25_col0\" class=\"data row25 col0\" >Michael Jordan</td>\n                        <td id=\"T_bef39_row25_col1\" class=\"data row25 col1\" >BASKETBALL</td>\n                        <td id=\"T_bef39_row25_col2\" class=\"data row25 col2\" >USA</td>\n                        <td id=\"T_bef39_row25_col3\" class=\"data row25 col3\" >30.000000</td>\n            </tr>\n            <tr>\n                        <th id=\"T_bef39_level0_row26\" class=\"row_heading level0 row26\" >1993</th>\n                        <td id=\"T_bef39_row26_col0\" class=\"data row26 col0\" >Michael Jordan</td>\n                        <td id=\"T_bef39_row26_col1\" class=\"data row26 col1\" >BASKETBALL</td>\n                        <td id=\"T_bef39_row26_col2\" class=\"data row26 col2\" >USA</td>\n                        <td id=\"T_bef39_row26_col3\" class=\"data row26 col3\" >36.000000</td>\n            </tr>\n            <tr>\n                        <th id=\"T_bef39_level0_row27\" class=\"row_heading level0 row27\" >1992</th>\n                        <td id=\"T_bef39_row27_col0\" class=\"data row27 col0\" >Michael Jordan</td>\n                        <td id=\"T_bef39_row27_col1\" class=\"data row27 col1\" >BASKETBALL</td>\n                        <td id=\"T_bef39_row27_col2\" class=\"data row27 col2\" >USA</td>\n                        <td id=\"T_bef39_row27_col3\" class=\"data row27 col3\" >35.900000</td>\n            </tr>\n            <tr>\n                        <th id=\"T_bef39_level0_row28\" class=\"row_heading level0 row28\" >1991</th>\n                        <td id=\"T_bef39_row28_col0\" class=\"data row28 col0\" >Evander Holyfield</td>\n                        <td id=\"T_bef39_row28_col1\" class=\"data row28 col1\" >BOXING</td>\n                        <td id=\"T_bef39_row28_col2\" class=\"data row28 col2\" >USA</td>\n                        <td id=\"T_bef39_row28_col3\" class=\"data row28 col3\" >60.500000</td>\n            </tr>\n            <tr>\n                        <th id=\"T_bef39_level0_row29\" class=\"row_heading level0 row29\" >1990</th>\n                        <td id=\"T_bef39_row29_col0\" class=\"data row29 col0\" >Mike Tyson</td>\n                        <td id=\"T_bef39_row29_col1\" class=\"data row29 col1\" >BOXING</td>\n                        <td id=\"T_bef39_row29_col2\" class=\"data row29 col2\" >USA</td>\n                        <td id=\"T_bef39_row29_col3\" class=\"data row29 col3\" >28.600000</td>\n            </tr>\n    </tbody></table>"
     },
     "metadata": {}
    }
   ],
   "execution_count": 5
  },
  {
   "cell_type": "code",
   "source": "#Atheles appearing maximum times on the list\ns = df['Name'].value_counts().to_frame()[:5]\ns.style.background_gradient(cmap='Reds')  ",
   "metadata": {
    "tags": [],
    "cell_id": "00007-41b95e6b-0900-4bde-9712-bf3fc64c4711",
    "deepnote_to_be_reexecuted": false,
    "source_hash": "127dfc37",
    "execution_start": 1627645584551,
    "execution_millis": 24,
    "deepnote_cell_type": "code"
   },
   "outputs": [
    {
     "output_type": "execute_result",
     "execution_count": 6,
     "data": {
      "text/plain": "<pandas.io.formats.style.Styler at 0x7f4f6c909e50>",
      "text/html": "<style  type=\"text/css\" >\n#T_77e13_row0_col0,#T_77e13_row1_col0{\n            background-color:  #67000d;\n            color:  #f1f1f1;\n        }#T_77e13_row2_col0{\n            background-color:  #fdd4c2;\n            color:  #000000;\n        }#T_77e13_row3_col0,#T_77e13_row4_col0{\n            background-color:  #fff5f0;\n            color:  #000000;\n        }</style><table id=\"T_77e13_\" ><thead>    <tr>        <th class=\"blank level0\" ></th>        <th class=\"col_heading level0 col0\" >Name</th>    </tr></thead><tbody>\n                <tr>\n                        <th id=\"T_77e13_level0_row0\" class=\"row_heading level0 row0\" >Tiger Woods</th>\n                        <td id=\"T_77e13_row0_col0\" class=\"data row0 col0\" >19</td>\n            </tr>\n            <tr>\n                        <th id=\"T_77e13_level0_row1\" class=\"row_heading level0 row1\" >Michael Jordan</th>\n                        <td id=\"T_77e13_row1_col0\" class=\"data row1 col0\" >19</td>\n            </tr>\n            <tr>\n                        <th id=\"T_77e13_level0_row2\" class=\"row_heading level0 row2\" >Kobe Bryant</th>\n                        <td id=\"T_77e13_row2_col0\" class=\"data row2 col0\" >14</td>\n            </tr>\n            <tr>\n                        <th id=\"T_77e13_level0_row3\" class=\"row_heading level0 row3\" >Michael Schumacher</th>\n                        <td id=\"T_77e13_row3_col0\" class=\"data row3 col0\" >13</td>\n            </tr>\n            <tr>\n                        <th id=\"T_77e13_level0_row4\" class=\"row_heading level0 row4\" >LeBron James</th>\n                        <td id=\"T_77e13_row4_col0\" class=\"data row4 col0\" >13</td>\n            </tr>\n    </tbody></table>"
     },
     "metadata": {}
    }
   ],
   "execution_count": 6
  },
  {
   "cell_type": "code",
   "source": "# Athletes who appeared only once on the list.\nnames = df['Name'].value_counts().to_frame()\nnames[names['Name']==1].index\n\n# On scanning the list, we find the name of a sole women athlete- monica seles\nmonica = df[df['Name'] == 'Monica Seles']\nmonica.style.set_properties(**{'background-color': 'grey',\n                            'color': 'black',\n                            'border-color': 'black'})",
   "metadata": {
    "tags": [],
    "cell_id": "00008-facbd2c1-04d1-4502-a991-5600b3bbede8",
    "deepnote_to_be_reexecuted": false,
    "source_hash": "3a9b485",
    "execution_start": 1627645584602,
    "execution_millis": 11,
    "deepnote_cell_type": "code"
   },
   "outputs": [
    {
     "output_type": "execute_result",
     "execution_count": 7,
     "data": {
      "text/plain": "<pandas.io.formats.style.Styler at 0x7f4f6c1870d0>",
      "text/html": "<style  type=\"text/css\" >\n#T_301ca_row0_col0,#T_301ca_row0_col1,#T_301ca_row0_col2,#T_301ca_row0_col3,#T_301ca_row0_col4,#T_301ca_row0_col5,#T_301ca_row0_col6,#T_301ca_row0_col7{\n            background-color:  grey;\n            color:  black;\n            border-color:  black;\n        }</style><table id=\"T_301ca_\" ><thead>    <tr>        <th class=\"blank level0\" ></th>        <th class=\"col_heading level0 col0\" >S.NO</th>        <th class=\"col_heading level0 col1\" >Name</th>        <th class=\"col_heading level0 col2\" >Nationality</th>        <th class=\"col_heading level0 col3\" >Current Rank</th>        <th class=\"col_heading level0 col4\" >Previous Year Rank</th>        <th class=\"col_heading level0 col5\" >Sport</th>        <th class=\"col_heading level0 col6\" >Year</th>        <th class=\"col_heading level0 col7\" >earnings ($ million)</th>    </tr></thead><tbody>\n                <tr>\n                        <th id=\"T_301ca_level0_row0\" class=\"row_heading level0 row0\" >29</th>\n                        <td id=\"T_301ca_row0_col0\" class=\"data row0 col0\" >30</td>\n                        <td id=\"T_301ca_row0_col1\" class=\"data row0 col1\" >Monica Seles</td>\n                        <td id=\"T_301ca_row0_col2\" class=\"data row0 col2\" >USA</td>\n                        <td id=\"T_301ca_row0_col3\" class=\"data row0 col3\" >10</td>\n                        <td id=\"T_301ca_row0_col4\" class=\"data row0 col4\" >12</td>\n                        <td id=\"T_301ca_row0_col5\" class=\"data row0 col5\" >Tennis</td>\n                        <td id=\"T_301ca_row0_col6\" class=\"data row0 col6\" >1992</td>\n                        <td id=\"T_301ca_row0_col7\" class=\"data row0 col7\" >8.500000</td>\n            </tr>\n    </tbody></table>"
     },
     "metadata": {}
    }
   ],
   "execution_count": 7
  },
  {
   "cell_type": "code",
   "source": "top_earners_alltime = pd.pivot_table(df, index='Name',values=\"earnings ($ million)\", aggfunc='sum')\ntop3_earners_all = top_earners_alltime.sort_values(by=\"earnings ($ million)\",ascending=False)[:3]\n\ntop3_earners_all.style.background_gradient(cmap='Reds')",
   "metadata": {
    "tags": [],
    "cell_id": "00009-89a647ef-25ba-4d0d-86f3-dacfcaa64a62",
    "deepnote_to_be_reexecuted": false,
    "source_hash": "ea66e891",
    "execution_start": 1627645584662,
    "execution_millis": 5,
    "deepnote_cell_type": "code"
   },
   "outputs": [
    {
     "output_type": "execute_result",
     "execution_count": 8,
     "data": {
      "text/plain": "<pandas.io.formats.style.Styler at 0x7f4f6c13eb50>",
      "text/html": "<style  type=\"text/css\" >\n#T_9a2e9_row0_col0{\n            background-color:  #67000d;\n            color:  #f1f1f1;\n        }#T_9a2e9_row1_col0{\n            background-color:  #fff4ee;\n            color:  #000000;\n        }#T_9a2e9_row2_col0{\n            background-color:  #fff5f0;\n            color:  #000000;\n        }</style><table id=\"T_9a2e9_\" ><thead>    <tr>        <th class=\"blank level0\" ></th>        <th class=\"col_heading level0 col0\" >earnings ($ million)</th>    </tr>    <tr>        <th class=\"index_name level0\" >Name</th>        <th class=\"blank\" ></th>    </tr></thead><tbody>\n                <tr>\n                        <th id=\"T_9a2e9_level0_row0\" class=\"row_heading level0 row0\" >Tiger Woods</th>\n                        <td id=\"T_9a2e9_row0_col0\" class=\"data row0 col0\" >1373.800000</td>\n            </tr>\n            <tr>\n                        <th id=\"T_9a2e9_level0_row1\" class=\"row_heading level0 row1\" >LeBron James</th>\n                        <td id=\"T_9a2e9_row1_col0\" class=\"data row1 col0\" >844.800000</td>\n            </tr>\n            <tr>\n                        <th id=\"T_9a2e9_level0_row2\" class=\"row_heading level0 row2\" >Floyd Mayweather</th>\n                        <td id=\"T_9a2e9_row2_col0\" class=\"data row2 col0\" >840.000000</td>\n            </tr>\n    </tbody></table>"
     },
     "metadata": {}
    }
   ],
   "execution_count": 8
  },
  {
   "cell_type": "code",
   "source": "import plotly.graph_objs as go\nfrom plotly import tools",
   "metadata": {
    "tags": [],
    "cell_id": "00010-c5abd50d-4b1d-41f6-b362-43b1567c7796",
    "deepnote_to_be_reexecuted": false,
    "source_hash": "7363fb59",
    "execution_start": 1627645584663,
    "execution_millis": 43,
    "deepnote_cell_type": "code"
   },
   "outputs": [],
   "execution_count": 9
  },
  {
   "cell_type": "code",
   "source": "!pip install chart_studio==1.1.0",
   "metadata": {
    "tags": [],
    "cell_id": "00011-ffd99813-06bd-42e6-a0aa-faa19d9fd5a9",
    "deepnote_to_be_reexecuted": false,
    "source_hash": "65b1164b",
    "execution_start": 1627645584707,
    "execution_millis": 4047,
    "deepnote_cell_type": "code"
   },
   "outputs": [
    {
     "name": "stdout",
     "text": "Requirement already satisfied: chart_studio==1.1.0 in /root/venv/lib/python3.7/site-packages (1.1.0)\nRequirement already satisfied: plotly in /shared-libs/python3.7/py/lib/python3.7/site-packages (from chart_studio==1.1.0) (5.1.0)\nRequirement already satisfied: retrying>=1.3.3 in /root/venv/lib/python3.7/site-packages (from chart_studio==1.1.0) (1.3.3)\nRequirement already satisfied: six in /shared-libs/python3.7/py-core/lib/python3.7/site-packages (from chart_studio==1.1.0) (1.16.0)\nRequirement already satisfied: requests in /shared-libs/python3.7/py/lib/python3.7/site-packages (from chart_studio==1.1.0) (2.26.0)\nRequirement already satisfied: tenacity>=6.2.0 in /shared-libs/python3.7/py/lib/python3.7/site-packages (from plotly->chart_studio==1.1.0) (8.0.1)\nRequirement already satisfied: idna<4,>=2.5 in /shared-libs/python3.7/py/lib/python3.7/site-packages (from requests->chart_studio==1.1.0) (3.2)\nRequirement already satisfied: certifi>=2017.4.17 in /shared-libs/python3.7/py/lib/python3.7/site-packages (from requests->chart_studio==1.1.0) (2021.5.30)\nRequirement already satisfied: charset-normalizer~=2.0.0 in /shared-libs/python3.7/py/lib/python3.7/site-packages (from requests->chart_studio==1.1.0) (2.0.3)\nRequirement already satisfied: urllib3<1.27,>=1.21.1 in /shared-libs/python3.7/py/lib/python3.7/site-packages (from requests->chart_studio==1.1.0) (1.26.6)\n\u001b[33mWARNING: You are using pip version 21.1.3; however, version 21.2.1 is available.\nYou should consider upgrading via the '/root/venv/bin/python -m pip install --upgrade pip' command.\u001b[0m\n",
     "output_type": "stream"
    }
   ],
   "execution_count": 10
  },
  {
   "cell_type": "code",
   "source": "from chart_studio.plotly import plot, iplot",
   "metadata": {
    "tags": [],
    "cell_id": "00011-242dad64-bf00-4a0c-9962-491c4b0f801b",
    "deepnote_to_be_reexecuted": false,
    "source_hash": "e23ee73c",
    "execution_start": 1627645588762,
    "execution_millis": 24,
    "deepnote_cell_type": "code"
   },
   "outputs": [],
   "execution_count": 11
  },
  {
   "cell_type": "code",
   "source": "import plotly.express as px",
   "metadata": {
    "tags": [],
    "cell_id": "00013-80304d03-6b3b-44ab-ae94-90ffc8ea6bc9",
    "deepnote_to_be_reexecuted": false,
    "source_hash": "bceeddb3",
    "execution_start": 1627645588800,
    "execution_millis": 203,
    "deepnote_cell_type": "code"
   },
   "outputs": [],
   "execution_count": 12
  },
  {
   "cell_type": "code",
   "source": "",
   "metadata": {
    "cell_id": "00014-ace74bb8-74d7-4a91-8a57-5659066b36fe",
    "deepnote_variable_name": "z",
    "deepnote_visualization_spec": {
     "$schema": "https://vega.github.io/schema/vega-lite/v4.json",
     "mark": {
      "type": "bar",
      "tooltip": {
       "content": "data"
      }
     },
     "height": 220,
     "autosize": {
      "type": "fit"
     },
     "data": {
      "name": "placeholder"
     },
     "encoding": {
      "x": {
       "field": "Nationality",
       "type": "nominal",
       "sort": null,
       "scale": {
        "type": "linear",
        "zero": false
       }
      },
      "y": {
       "field": "earnings ($ million)",
       "type": "quantitative",
       "sort": null,
       "scale": {
        "type": "linear",
        "zero": true
       }
      },
      "color": {
       "field": "",
       "type": "nominal",
       "sort": null,
       "scale": {
        "type": "linear",
        "zero": false
       }
      }
     }
    },
    "deepnote_to_be_reexecuted": false,
    "source_hash": "54a45f2d",
    "execution_start": 1627645589011,
    "execution_millis": 477,
    "deepnote_cell_type": "visualization"
   },
   "outputs": [
    {
     "output_type": "execute_result",
     "execution_count": 13,
     "data": {
      "text/html": "\n<div id=\"altair-viz-64b720d3115347eabffa48d7aa04afce\"></div>\n<script type=\"text/javascript\">\n  (function(spec, embedOpt){\n    let outputDiv = document.currentScript.previousElementSibling;\n    if (outputDiv.id !== \"altair-viz-64b720d3115347eabffa48d7aa04afce\") {\n      outputDiv = document.getElementById(\"altair-viz-64b720d3115347eabffa48d7aa04afce\");\n    }\n    const paths = {\n      \"vega\": \"https://cdn.jsdelivr.net/npm//vega@5?noext\",\n      \"vega-lib\": \"https://cdn.jsdelivr.net/npm//vega-lib?noext\",\n      \"vega-lite\": \"https://cdn.jsdelivr.net/npm//vega-lite@4.8.1?noext\",\n      \"vega-embed\": \"https://cdn.jsdelivr.net/npm//vega-embed@6?noext\",\n    };\n\n    function loadScript(lib) {\n      return new Promise(function(resolve, reject) {\n        var s = document.createElement('script');\n        s.src = paths[lib];\n        s.async = true;\n        s.onload = () => resolve(paths[lib]);\n        s.onerror = () => reject(`Error loading script: ${paths[lib]}`);\n        document.getElementsByTagName(\"head\")[0].appendChild(s);\n      });\n    }\n\n    function showError(err) {\n      outputDiv.innerHTML = `<div class=\"error\" style=\"color:red;\">${err}</div>`;\n      throw err;\n    }\n\n    function displayChart(vegaEmbed) {\n      vegaEmbed(outputDiv, spec, embedOpt)\n        .catch(err => showError(`Javascript Error: ${err.message}<br>This usually means there's a typo in your chart specification. See the javascript console for the full traceback.`));\n    }\n\n    if(typeof define === \"function\" && define.amd) {\n      requirejs.config({paths});\n      require([\"vega-embed\"], displayChart, err => showError(`Error loading script: ${err.message}`));\n    } else if (typeof vegaEmbed === \"function\") {\n      displayChart(vegaEmbed);\n    } else {\n      loadScript(\"vega\")\n        .then(() => loadScript(\"vega-lite\"))\n        .then(() => loadScript(\"vega-embed\"))\n        .catch(showError)\n        .then(() => displayChart(vegaEmbed));\n    }\n  })({\"config\": {\"view\": {\"continuousWidth\": 400, \"continuousHeight\": 300}, \"area\": {\"fill\": \"#51C0E9\"}, \"axis\": {\"labelFont\": \"Inter, sans-serif\", \"labelFontSize\": 12, \"labelFontWeight\": \"normal\", \"labelLimit\": 60, \"labelOverlap\": \"greedy\", \"titleFont\": \"Inter, sans-serif\", \"titleFontSize\": 12, \"titleFontWeight\": \"bold\"}, \"background\": \"#ffffff\", \"legend\": {\"labelFont\": \"Inter, sans-serif\", \"labelFontSize\": 12, \"titleFont\": \"Inter, sans-serif\", \"titleFontSize\": 12, \"titleFontWeight\": \"bold\"}, \"line\": {\"stroke\": \"#51C0E9\", \"strokeWidth\": 2}, \"rect\": {\"fill\": \"#51C0E9\"}, \"title\": {\"anchor\": \"start\", \"color\": \"#000000\", \"font\": \"Inter, sans-serif\", \"fontSize\": 22, \"fontWeight\": \"normal\"}}, \"data\": {\"name\": \"data-b97aa7496ad05df1b0dc4ad3e3a48599\"}, \"mark\": {\"type\": \"bar\", \"tooltip\": {\"content\": \"data\"}}, \"autosize\": {\"type\": \"fit\"}, \"encoding\": {\"color\": {\"type\": \"nominal\", \"field\": \"\", \"scale\": {\"type\": \"linear\", \"zero\": false}, \"sort\": null}, \"x\": {\"type\": \"nominal\", \"field\": \"Nationality\", \"scale\": {\"type\": \"linear\", \"zero\": false}, \"sort\": null}, \"y\": {\"type\": \"quantitative\", \"field\": \"earnings ($ million)\", \"scale\": {\"type\": \"linear\", \"zero\": true}, \"sort\": null}}, \"height\": 300, \"width\": \"container\", \"$schema\": \"https://vega.github.io/schema/vega-lite/v4.json\", \"datasets\": {\"data-b97aa7496ad05df1b0dc4ad3e3a48599\": [{\"Name\": \"Roger Federer\", \"Sport\": \"TENNIS\", \"Nationality\": \"Switzerland\", \"earnings ($ million)\": 106.3}, {\"Name\": \"Lionel Messi\", \"Sport\": \"SOCCER\", \"Nationality\": \"Argentina\", \"earnings ($ million)\": 127.0}, {\"Name\": \"Floyd Mayweather\", \"Sport\": \"BOXING\", \"Nationality\": \"USA\", \"earnings ($ million)\": 285.0}, {\"Name\": \"Cristiano Ronaldo\", \"Sport\": \"SOCCER\", \"Nationality\": \"Portugal\", \"earnings ($ million)\": 93.0}, {\"Name\": \"Cristiano Ronaldo\", \"Sport\": \"SOCCER\", \"Nationality\": \"Portugal\", \"earnings ($ million)\": 88.0}, {\"Name\": \"Floyd Mayweather\", \"Sport\": \"BOXING\", \"Nationality\": \"USA\", \"earnings ($ million)\": 300.0}, {\"Name\": \"Floyd Mayweather\", \"Sport\": \"BOXING\", \"Nationality\": \"USA\", \"earnings ($ million)\": 105.0}, {\"Name\": \"Tiger Woods\", \"Sport\": \"GOLF\", \"Nationality\": \"USA\", \"earnings ($ million)\": 78.1}, {\"Name\": \"Floyd Mayweather\", \"Sport\": \"BOXING\", \"Nationality\": \"USA\", \"earnings ($ million)\": 85.0}, {\"Name\": \"Tiger Woods\", \"Sport\": \"GOLF\", \"Nationality\": \"USA\", \"earnings ($ million)\": 75.0}, {\"Name\": \"Tiger Woods\", \"Sport\": \"GOLF\", \"Nationality\": \"USA\", \"earnings ($ million)\": 105.0}, {\"Name\": \"Tiger Woods\", \"Sport\": \"GOLF\", \"Nationality\": \"USA\", \"earnings ($ million)\": 110.0}, {\"Name\": \"Tiger Woods\", \"Sport\": \"GOLF\", \"Nationality\": \"USA\", \"earnings ($ million)\": 115.0}, {\"Name\": \"Tiger Woods\", \"Sport\": \"GOLF\", \"Nationality\": \"USA\", \"earnings ($ million)\": 100.0}, {\"Name\": \"Tiger Woods\", \"Sport\": \"GOLF\", \"Nationality\": \"USA\", \"earnings ($ million)\": 90.0}, {\"Name\": \"Tiger Woods\", \"Sport\": \"GOLF\", \"Nationality\": \"USA\", \"earnings ($ million)\": 87.0}, {\"Name\": \"Tiger Woods\", \"Sport\": \"GOLF\", \"Nationality\": \"USA\", \"earnings ($ million)\": 80.3}, {\"Name\": \"Tiger Woods\", \"Sport\": \"GOLF\", \"Nationality\": \"USA\", \"earnings ($ million)\": 78.0}, {\"Name\": \"Tiger Woods\", \"Sport\": \"GOLF\", \"Nationality\": \"USA\", \"earnings ($ million)\": 69.0}, {\"Name\": \"Michael Schumacher\", \"Sport\": \"AUTO RACING\", \"Nationality\": \"Germany\", \"earnings ($ million)\": 59.0}, {\"Name\": \"Michael Schumacher\", \"Sport\": \"AUTO RACING\", \"Nationality\": \"Germany\", \"earnings ($ million)\": 49.0}, {\"Name\": \"Michael Jordan\", \"Sport\": \"BASKETBALL\", \"Nationality\": \"USA\", \"earnings ($ million)\": 69.0}, {\"Name\": \"Michael Jordan\", \"Sport\": \"BASKETBALL\", \"Nationality\": \"USA\", \"earnings ($ million)\": 78.3}, {\"Name\": \"Mike Tyson\", \"Sport\": \"BOXING\", \"Nationality\": \"USA\", \"earnings ($ million)\": 75.0}, {\"Name\": \"Michael Jordan\", \"Sport\": \"BASKETBALL\", \"Nationality\": \"USA\", \"earnings ($ million)\": 43.9}, {\"Name\": \"Michael Jordan\", \"Sport\": \"BASKETBALL\", \"Nationality\": \"USA\", \"earnings ($ million)\": 30.0}, {\"Name\": \"Michael Jordan\", \"Sport\": \"BASKETBALL\", \"Nationality\": \"USA\", \"earnings ($ million)\": 36.0}, {\"Name\": \"Michael Jordan\", \"Sport\": \"BASKETBALL\", \"Nationality\": \"USA\", \"earnings ($ million)\": 35.9}, {\"Name\": \"Evander Holyfield\", \"Sport\": \"BOXING\", \"Nationality\": \"USA\", \"earnings ($ million)\": 60.5}, {\"Name\": \"Mike Tyson\", \"Sport\": \"BOXING\", \"Nationality\": \"USA\", \"earnings ($ million)\": 28.6}]}}, {\"actions\": false, \"mode\": \"vega-lite\"});\n</script>",
      "text/plain": "alt.Chart(...)"
     },
     "metadata": {}
    }
   ],
   "execution_count": 13
  },
  {
   "cell_type": "markdown",
   "source": "<a style='text-decoration:none;line-height:16px;display:flex;color:#5B5B62;padding:10px;justify-content:end;' href='https://deepnote.com?utm_source=created-in-deepnote-cell&projectId=06380b80-a016-44c6-b3eb-07175780253b' target=\"_blank\">\n<img alt='Created in deepnote.com' style='display:inline;max-height:16px;margin:0px;margin-right:7.5px;' src='data:image/svg+xml;base64,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' > </img>\nCreated in <span style='font-weight:600;margin-left:4px;'>Deepnote</span></a>",
   "metadata": {
    "tags": [],
    "created_in_deepnote_cell": true,
    "deepnote_cell_type": "markdown"
   }
  }
 ],
 "nbformat": 4,
 "nbformat_minor": 2,
 "metadata": {
  "orig_nbformat": 2,
  "deepnote": {
   "is_reactive": true
  },
  "deepnote_notebook_id": "c1db9945-2ece-435d-a531-da2207757dd7",
  "deepnote_execution_queue": []
 }
}